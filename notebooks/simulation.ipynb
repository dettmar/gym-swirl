{
 "cells": [
  {
   "cell_type": "code",
   "execution_count": null,
   "metadata": {},
   "outputs": [],
   "source": [
    "print(\"Running\")"
   ]
  },
  {
   "cell_type": "code",
   "execution_count": null,
   "metadata": {},
   "outputs": [],
   "source": [
    "import gym"
   ]
  },
  {
   "cell_type": "code",
   "execution_count": null,
   "metadata": {},
   "outputs": [],
   "source": [
    "env = gym.make('gym_swirl:swirl-v1')\n",
    "env.seed(42)"
   ]
  },
  {
   "cell_type": "code",
   "execution_count": null,
   "metadata": {},
   "outputs": [],
   "source": [
    "env.reset(Deltas=3.1415926536/(3),\n",
    "\t\t\tDT=1.7441998757264687e-14,\n",
    "\t\t\tDR=0.012178413663250922,\n",
    "\t\t\tGamma=6,\n",
    "\t\t\tamount=48,\n",
    "\t\t\tT_release=200)\n",
    "\n",
    "# start recording after release\n",
    "env.step(0., 1, int(200/0.2))\n",
    "# record every 20th step\n",
    "env.step(actions=0., steps=100, betweensteps=20)\n",
    "\n",
    "# alternative writing\n",
    "#for i in range(100):\n",
    "#\tenv.step(actions=0., steps=1, betweensteps=20)\n",
    "\n",
    "print(\"recorded # states:\", len(env.states))"
   ]
  },
  {
   "cell_type": "code",
   "execution_count": null,
   "metadata": {},
   "outputs": [],
   "source": [
    "env.render(start_frame=1,\n",
    "    end_frame=len(env.states),\n",
    "    show_arrows=False,\n",
    "    scene_size=15)"
   ]
  },
  {
   "cell_type": "code",
   "execution_count": null,
   "metadata": {},
   "outputs": [],
   "source": [
    "env.save(\"runs/test\")\n",
    "#env.load(\"runs/test_20210106-164106.pkl\")"
   ]
  }
 ],
 "metadata": {
  "kernelspec": {
   "name": "python3",
   "display_name": "Python 3.8.3 64-bit ('base': conda)",
   "metadata": {
    "interpreter": {
     "hash": "a2d2dc0ec349247822d8e8b4d83c8a61d51d147c6b05e522fd6e1226cb05a3d7"
    }
   }
  },
  "language_info": {
   "codemirror_mode": {
    "name": "ipython",
    "version": 3
   },
   "file_extension": ".py",
   "mimetype": "text/x-python",
   "name": "python",
   "nbconvert_exporter": "python",
   "pygments_lexer": "ipython3",
   "version": "3.8.3-final"
  }
 },
 "nbformat": 4,
 "nbformat_minor": 4
}