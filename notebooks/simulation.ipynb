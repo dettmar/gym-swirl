{
 "cells": [
  {
   "cell_type": "code",
   "execution_count": null,
   "metadata": {},
   "outputs": [],
   "source": [
    "print(\"Running\")"
   ]
  },
  {
   "cell_type": "code",
   "execution_count": null,
   "metadata": {},
   "outputs": [],
   "source": [
    "import gym"
   ]
  },
  {
   "cell_type": "code",
   "execution_count": null,
   "metadata": {},
   "outputs": [],
   "source": [
    "# set up environment\n",
    "env = gym.make('gym_swirl:swirl-v1')\n",
    "# set a random seed (optional for reproducibility)\n",
    "env.seed(42)"
   ]
  },
  {
   "cell_type": "code",
   "execution_count": null,
   "metadata": {},
   "outputs": [],
   "source": [
    "# reset environment with the following settings\n",
    "T_release = 200\n",
    "dt = 0.2\n",
    "env.reset(Deltas=3.1415926536/2,\n",
    "\t\t\tDT=1.7441998757264687e-14,\n",
    "\t\t\tDR=0.012178413663250922,\n",
    "\t\t\tGamma=6,\n",
    "\t\t\tamount=48,\n",
    "\t\t\tT_release=T_release,\n",
    "\t\t\tdt=dt)\n",
    "\n",
    "# simulate until T=T_release (record 1 timestep)\n",
    "env.step(0., 1, int(T_release/dt))\n",
    "# take 100 steps and record every 20th step\n",
    "env.step(actions=0., steps=100, betweensteps=20)\n",
    "# alternative writing\n",
    "#for i in range(100):\n",
    "#\tenv.step(actions=0., steps=1, betweensteps=20)\n",
    "print(f\"recorded # states: {len(env.states)}\")"
   ]
  },
  {
   "cell_type": "code",
   "execution_count": null,
   "metadata": {},
   "outputs": [],
   "source": [
    "# make animation and display it\n",
    "env.render(start_frame=1,\n",
    "    end_frame=len(env.states),\n",
    "    show_arrows=False,\n",
    "    scene_size=15)"
   ]
  },
  {
   "cell_type": "code",
   "execution_count": null,
   "metadata": {},
   "outputs": [],
   "source": [
    "# make animation and save it as a video file\n",
    "env.render(filename=\"my_animation\",\n",
    "    start_frame=1,\n",
    "    end_frame=len(env.states),\n",
    "    show_arrows=False,\n",
    "    scene_size=15)"
   ]
  },
  {
   "cell_type": "code",
   "execution_count": null,
   "metadata": {},
   "outputs": [],
   "source": [
    "# save the simulation data\n",
    "env.save(\"runs/test\")"
   ]
  },
  {
   "cell_type": "code",
   "execution_count": null,
   "metadata": {},
   "outputs": [],
   "source": [
    "# load simulation data\n",
    "env.load(\"runs/test_20210106-164106.pkl\")"
   ]
  }
 ],
 "metadata": {
  "kernelspec": {
   "name": "python385jvsc74a57bd0916dbcbb3f70747c44a77c7bcd40155683ae19c65e1c03b4aa3499c5328201f1",
   "display_name": "Python 3.8.5 64-bit"
  },
  "language_info": {
   "codemirror_mode": {
    "name": "ipython",
    "version": 3
   },
   "file_extension": ".py",
   "mimetype": "text/x-python",
   "name": "python",
   "nbconvert_exporter": "python",
   "pygments_lexer": "ipython3",
   "version": "3.8.5"
  },
  "metadata": {
   "interpreter": {
    "hash": "916dbcbb3f70747c44a77c7bcd40155683ae19c65e1c03b4aa3499c5328201f1"
   }
  }
 },
 "nbformat": 4,
 "nbformat_minor": 4
}